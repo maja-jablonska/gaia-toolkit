{
 "cells": [
  {
   "cell_type": "code",
   "execution_count": 2,
   "metadata": {},
   "outputs": [
    {
     "name": "stdout",
     "output_type": "stream",
     "text": [
      "Retrieving table 'gaiadr3.gaia_source'\n"
     ]
    }
   ],
   "source": [
    "from event import GaiaEvent"
   ]
  },
  {
   "cell_type": "code",
   "execution_count": 3,
   "metadata": {},
   "outputs": [],
   "source": [
    "SOURCE_ID: int = 6059400613544951552"
   ]
  },
  {
   "cell_type": "markdown",
   "metadata": {},
   "source": [
    "The only argument to construct a GaiaEvent is the DR3 Source ID"
   ]
  },
  {
   "cell_type": "code",
   "execution_count": 4,
   "metadata": {},
   "outputs": [],
   "source": [
    "event: GaiaEvent = GaiaEvent(SOURCE_ID)"
   ]
  },
  {
   "cell_type": "markdown",
   "metadata": {},
   "source": [
    "DR3 photometry and archive data has to be fetched manually."
   ]
  },
  {
   "cell_type": "code",
   "execution_count": 5,
   "metadata": {},
   "outputs": [
    {
     "name": "stdout",
     "output_type": "stream",
     "text": [
      "Retrieving data.\n",
      "Data request: VALID_DATA=true&ID=6059400613544951552&RELEASE=Gaia+DR3&DATA_STRUCTURE=INDIVIDUAL&FORMAT=votable&RETRIEVAL_TYPE=EPOCH_PHOTOMETRY&USE_ZIP_ALWAYS=true\n",
      "------>https\n",
      "host = gea.esac.esa.int:443\n",
      "context = /data-server/data\n",
      "Content-type = application/x-www-form-urlencoded\n",
      "200 200\n",
      "Reading...\n",
      "Done.\n",
      "The following Datalink product has been downloaded:\n",
      " * EPOCH_PHOTOMETRY-Gaia DR3 6059400613544951552.xml\n",
      "Fetching for single source...\n",
      "INFO: Query finished. [astroquery.utils.tap.core]\n",
      "Fetched 1 sources.\n"
     ]
    }
   ],
   "source": [
    "event.fetch_dr3_photometry()\n",
    "event.fetch_gaia_archive_data()"
   ]
  },
  {
   "cell_type": "markdown",
   "metadata": {},
   "source": [
    "Now we can view the photometry and archive data as Pandas dataframes."
   ]
  },
  {
   "cell_type": "code",
   "execution_count": 6,
   "metadata": {},
   "outputs": [
    {
     "data": {
      "text/html": [
       "<div>\n",
       "<style scoped>\n",
       "    .dataframe tbody tr th:only-of-type {\n",
       "        vertical-align: middle;\n",
       "    }\n",
       "\n",
       "    .dataframe tbody tr th {\n",
       "        vertical-align: top;\n",
       "    }\n",
       "\n",
       "    .dataframe thead th {\n",
       "        text-align: right;\n",
       "    }\n",
       "</style>\n",
       "<table border=\"1\" class=\"dataframe\">\n",
       "  <thead>\n",
       "    <tr style=\"text-align: right;\">\n",
       "      <th></th>\n",
       "      <th>source_id</th>\n",
       "      <th>transit_id</th>\n",
       "      <th>band</th>\n",
       "      <th>time</th>\n",
       "      <th>mag</th>\n",
       "      <th>flux</th>\n",
       "      <th>flux_error</th>\n",
       "      <th>flux_over_error</th>\n",
       "      <th>rejected_by_photometry</th>\n",
       "      <th>rejected_by_variability</th>\n",
       "      <th>other_flags</th>\n",
       "      <th>solution_id</th>\n",
       "      <th>time_year</th>\n",
       "      <th>mag_err</th>\n",
       "    </tr>\n",
       "  </thead>\n",
       "  <tbody>\n",
       "    <tr>\n",
       "      <th>0</th>\n",
       "      <td>6059400613544951552</td>\n",
       "      <td>16677568339403789</td>\n",
       "      <td>G</td>\n",
       "      <td>1698.447455</td>\n",
       "      <td>13.581720</td>\n",
       "      <td>69543.851351</td>\n",
       "      <td>92.815028</td>\n",
       "      <td>749.273621</td>\n",
       "      <td>False</td>\n",
       "      <td>False</td>\n",
       "      <td>4097</td>\n",
       "      <td>375316653866487564</td>\n",
       "      <td>2014.650096</td>\n",
       "      <td>0.001229</td>\n",
       "    </tr>\n",
       "    <tr>\n",
       "      <th>1</th>\n",
       "      <td>6059400613544951552</td>\n",
       "      <td>16681660631794030</td>\n",
       "      <td>G</td>\n",
       "      <td>1698.521430</td>\n",
       "      <td>13.570018</td>\n",
       "      <td>70297.436761</td>\n",
       "      <td>121.972755</td>\n",
       "      <td>576.337219</td>\n",
       "      <td>False</td>\n",
       "      <td>False</td>\n",
       "      <td>4198401</td>\n",
       "      <td>375316653866487564</td>\n",
       "      <td>2014.650298</td>\n",
       "      <td>0.001598</td>\n",
       "    </tr>\n",
       "    <tr>\n",
       "      <th>2</th>\n",
       "      <td>6059400613544951552</td>\n",
       "      <td>18605508130787484</td>\n",
       "      <td>G</td>\n",
       "      <td>1733.311698</td>\n",
       "      <td>13.590165</td>\n",
       "      <td>69005.035717</td>\n",
       "      <td>91.666889</td>\n",
       "      <td>752.780396</td>\n",
       "      <td>False</td>\n",
       "      <td>False</td>\n",
       "      <td>4097</td>\n",
       "      <td>375316653866487564</td>\n",
       "      <td>2014.745549</td>\n",
       "      <td>0.001224</td>\n",
       "    </tr>\n",
       "    <tr>\n",
       "      <th>3</th>\n",
       "      <td>6059400613544951552</td>\n",
       "      <td>18609600412565873</td>\n",
       "      <td>G</td>\n",
       "      <td>1733.385675</td>\n",
       "      <td>13.580008</td>\n",
       "      <td>69653.568362</td>\n",
       "      <td>137.222199</td>\n",
       "      <td>507.596954</td>\n",
       "      <td>False</td>\n",
       "      <td>False</td>\n",
       "      <td>4198401</td>\n",
       "      <td>375316653866487564</td>\n",
       "      <td>2014.745751</td>\n",
       "      <td>0.001814</td>\n",
       "    </tr>\n",
       "    <tr>\n",
       "      <th>4</th>\n",
       "      <td>6059400613544951552</td>\n",
       "      <td>21062536978253010</td>\n",
       "      <td>G</td>\n",
       "      <td>1777.745475</td>\n",
       "      <td>13.589119</td>\n",
       "      <td>69071.545138</td>\n",
       "      <td>76.789981</td>\n",
       "      <td>899.486389</td>\n",
       "      <td>False</td>\n",
       "      <td>False</td>\n",
       "      <td>4194433</td>\n",
       "      <td>375316653866487564</td>\n",
       "      <td>2014.867202</td>\n",
       "      <td>0.001024</td>\n",
       "    </tr>\n",
       "  </tbody>\n",
       "</table>\n",
       "</div>"
      ],
      "text/plain": [
       "             source_id         transit_id band         time        mag  \\\n",
       "0  6059400613544951552  16677568339403789    G  1698.447455  13.581720   \n",
       "1  6059400613544951552  16681660631794030    G  1698.521430  13.570018   \n",
       "2  6059400613544951552  18605508130787484    G  1733.311698  13.590165   \n",
       "3  6059400613544951552  18609600412565873    G  1733.385675  13.580008   \n",
       "4  6059400613544951552  21062536978253010    G  1777.745475  13.589119   \n",
       "\n",
       "           flux  flux_error  flux_over_error  rejected_by_photometry  \\\n",
       "0  69543.851351   92.815028       749.273621                   False   \n",
       "1  70297.436761  121.972755       576.337219                   False   \n",
       "2  69005.035717   91.666889       752.780396                   False   \n",
       "3  69653.568362  137.222199       507.596954                   False   \n",
       "4  69071.545138   76.789981       899.486389                   False   \n",
       "\n",
       "   rejected_by_variability  other_flags         solution_id    time_year  \\\n",
       "0                    False         4097  375316653866487564  2014.650096   \n",
       "1                    False      4198401  375316653866487564  2014.650298   \n",
       "2                    False         4097  375316653866487564  2014.745549   \n",
       "3                    False      4198401  375316653866487564  2014.745751   \n",
       "4                    False      4194433  375316653866487564  2014.867202   \n",
       "\n",
       "    mag_err  \n",
       "0  0.001229  \n",
       "1  0.001598  \n",
       "2  0.001224  \n",
       "3  0.001814  \n",
       "4  0.001024  "
      ]
     },
     "execution_count": 6,
     "metadata": {},
     "output_type": "execute_result"
    }
   ],
   "source": [
    "event.photometry.head()"
   ]
  },
  {
   "cell_type": "code",
   "execution_count": 7,
   "metadata": {},
   "outputs": [
    {
     "data": {
      "text/html": [
       "<div>\n",
       "<style scoped>\n",
       "    .dataframe tbody tr th:only-of-type {\n",
       "        vertical-align: middle;\n",
       "    }\n",
       "\n",
       "    .dataframe tbody tr th {\n",
       "        vertical-align: top;\n",
       "    }\n",
       "\n",
       "    .dataframe thead th {\n",
       "        text-align: right;\n",
       "    }\n",
       "</style>\n",
       "<table border=\"1\" class=\"dataframe\">\n",
       "  <thead>\n",
       "    <tr style=\"text-align: right;\">\n",
       "      <th></th>\n",
       "      <th>scan_direction_mean_k2</th>\n",
       "      <th>bp_g</th>\n",
       "      <th>phot_bp_mean_flux_error</th>\n",
       "      <th>phot_g_mean_mag</th>\n",
       "      <th>phot_bp_mean_mag</th>\n",
       "      <th>has_mcmc_gspphot</th>\n",
       "      <th>pmra</th>\n",
       "      <th>phot_g_mean_flux_over_error</th>\n",
       "      <th>dec_pmdec_corr</th>\n",
       "      <th>ra_pmdec_corr</th>\n",
       "      <th>...</th>\n",
       "      <th>vbroad_error</th>\n",
       "      <th>astrometric_excess_noise_sig</th>\n",
       "      <th>ra_pmra_corr</th>\n",
       "      <th>duplicated_source</th>\n",
       "      <th>parallax_error</th>\n",
       "      <th>distance_gspphot_lower</th>\n",
       "      <th>rv_expected_sig_to_noise</th>\n",
       "      <th>phot_rp_mean_flux_error</th>\n",
       "      <th>astrometric_matched_transits</th>\n",
       "      <th>ruwe</th>\n",
       "    </tr>\n",
       "  </thead>\n",
       "  <tbody>\n",
       "    <tr>\n",
       "      <th>0</th>\n",
       "      <td>NaN</td>\n",
       "      <td>1.295199</td>\n",
       "      <td>22.248138</td>\n",
       "      <td>13.575167</td>\n",
       "      <td>14.870366</td>\n",
       "      <td>False</td>\n",
       "      <td>-6.197489</td>\n",
       "      <td>2221.056885</td>\n",
       "      <td>-0.021956</td>\n",
       "      <td>0.057211</td>\n",
       "      <td>...</td>\n",
       "      <td>9.820553</td>\n",
       "      <td>51.387184</td>\n",
       "      <td>-0.206941</td>\n",
       "      <td>False</td>\n",
       "      <td>0.024126</td>\n",
       "      <td>4283.349121</td>\n",
       "      <td>24.718548</td>\n",
       "      <td>93.884102</td>\n",
       "      <td>61</td>\n",
       "      <td>2.182534</td>\n",
       "    </tr>\n",
       "  </tbody>\n",
       "</table>\n",
       "<p>1 rows × 152 columns</p>\n",
       "</div>"
      ],
      "text/plain": [
       "   scan_direction_mean_k2      bp_g  phot_bp_mean_flux_error  phot_g_mean_mag  \\\n",
       "0                     NaN  1.295199                22.248138        13.575167   \n",
       "\n",
       "   phot_bp_mean_mag  has_mcmc_gspphot      pmra  phot_g_mean_flux_over_error  \\\n",
       "0         14.870366             False -6.197489                  2221.056885   \n",
       "\n",
       "   dec_pmdec_corr  ra_pmdec_corr  ...  vbroad_error  \\\n",
       "0       -0.021956       0.057211  ...      9.820553   \n",
       "\n",
       "   astrometric_excess_noise_sig  ra_pmra_corr  duplicated_source  \\\n",
       "0                     51.387184     -0.206941              False   \n",
       "\n",
       "   parallax_error  distance_gspphot_lower  rv_expected_sig_to_noise  \\\n",
       "0        0.024126             4283.349121                 24.718548   \n",
       "\n",
       "   phot_rp_mean_flux_error  astrometric_matched_transits      ruwe  \n",
       "0                93.884102                            61  2.182534  \n",
       "\n",
       "[1 rows x 152 columns]"
      ]
     },
     "execution_count": 7,
     "metadata": {},
     "output_type": "execute_result"
    }
   ],
   "source": [
    "event.gaia_archive_data.head()"
   ]
  },
  {
   "cell_type": "markdown",
   "metadata": {},
   "source": [
    "as well as fiveparameter fit as a dictionary of astropy Quantities:"
   ]
  },
  {
   "cell_type": "code",
   "execution_count": 8,
   "metadata": {},
   "outputs": [
    {
     "data": {
      "text/plain": [
       "{'ra': <Quantity 184.43627276 deg>,\n",
       " 'dec': <Quantity -59.02941478 deg>,\n",
       " 'pmra': <Quantity -6.19748918 mas / yr>,\n",
       " 'pmdec': <Quantity 1.11779185 mas / yr>,\n",
       " 'parallax': <Quantity 0.28640683 mas>,\n",
       " 'pmra_error': <Quantity 0.0223372 mas / yr>,\n",
       " 'pmdec_error': <Quantity 0.0236364 mas / yr>,\n",
       " 'parallax_error': <Quantity 0.02412619 mas>}"
      ]
     },
     "execution_count": 8,
     "metadata": {},
     "output_type": "execute_result"
    }
   ],
   "source": [
    "event.fiveparam_fit"
   ]
  },
  {
   "cell_type": "markdown",
   "metadata": {},
   "source": [
    "fiveparameter fit can be obtained as values, but take note of the units:"
   ]
  },
  {
   "cell_type": "code",
   "execution_count": 9,
   "metadata": {},
   "outputs": [
    {
     "data": {
      "text/plain": [
       "{'ra': 184.43627276119184,\n",
       " 'dec': -59.0294147795545,\n",
       " 'pmra': -6.1974891812727355,\n",
       " 'pmdec': 1.1177918543239076,\n",
       " 'parallax': 0.2864068324874943,\n",
       " 'pmra_error': 0.022337201982736588,\n",
       " 'pmdec_error': 0.023636404424905777,\n",
       " 'parallax_error': 0.024126185104250908}"
      ]
     },
     "execution_count": 9,
     "metadata": {},
     "output_type": "execute_result"
    }
   ],
   "source": [
    "event.fiveparam_fit_values"
   ]
  },
  {
   "cell_type": "code",
   "execution_count": 10,
   "metadata": {},
   "outputs": [
    {
     "data": {
      "image/png": "[encoded data removed]",
      "text/plain": [
       "<Figure size 640x480 with 1 Axes>"
      ]
     },
     "metadata": {},
     "output_type": "display_data"
    }
   ],
   "source": [
    "event.plot_photometry()"
   ]
  },
  {
   "cell_type": "markdown",
   "metadata": {},
   "source": [
    "Separate photometry for one band can be obtained:"
   ]
  },
  {
   "cell_type": "code",
   "execution_count": 11,
   "metadata": {},
   "outputs": [
    {
     "data": {
      "text/html": [
       "<div>\n",
       "<style scoped>\n",
       "    .dataframe tbody tr th:only-of-type {\n",
       "        vertical-align: middle;\n",
       "    }\n",
       "\n",
       "    .dataframe tbody tr th {\n",
       "        vertical-align: top;\n",
       "    }\n",
       "\n",
       "    .dataframe thead th {\n",
       "        text-align: right;\n",
       "    }\n",
       "</style>\n",
       "<table border=\"1\" class=\"dataframe\">\n",
       "  <thead>\n",
       "    <tr style=\"text-align: right;\">\n",
       "      <th></th>\n",
       "      <th>source_id</th>\n",
       "      <th>transit_id</th>\n",
       "      <th>band</th>\n",
       "      <th>time</th>\n",
       "      <th>mag</th>\n",
       "      <th>flux</th>\n",
       "      <th>flux_error</th>\n",
       "      <th>flux_over_error</th>\n",
       "      <th>rejected_by_photometry</th>\n",
       "      <th>rejected_by_variability</th>\n",
       "      <th>other_flags</th>\n",
       "      <th>solution_id</th>\n",
       "      <th>time_year</th>\n",
       "      <th>mag_err</th>\n",
       "    </tr>\n",
       "  </thead>\n",
       "  <tbody>\n",
       "    <tr>\n",
       "      <th>0</th>\n",
       "      <td>6059400613544951552</td>\n",
       "      <td>16677568339403789</td>\n",
       "      <td>G</td>\n",
       "      <td>1698.447455</td>\n",
       "      <td>13.581720</td>\n",
       "      <td>69543.851351</td>\n",
       "      <td>92.815028</td>\n",
       "      <td>749.273621</td>\n",
       "      <td>False</td>\n",
       "      <td>False</td>\n",
       "      <td>4097</td>\n",
       "      <td>375316653866487564</td>\n",
       "      <td>2014.650096</td>\n",
       "      <td>0.001229</td>\n",
       "    </tr>\n",
       "    <tr>\n",
       "      <th>1</th>\n",
       "      <td>6059400613544951552</td>\n",
       "      <td>16681660631794030</td>\n",
       "      <td>G</td>\n",
       "      <td>1698.521430</td>\n",
       "      <td>13.570018</td>\n",
       "      <td>70297.436761</td>\n",
       "      <td>121.972755</td>\n",
       "      <td>576.337219</td>\n",
       "      <td>False</td>\n",
       "      <td>False</td>\n",
       "      <td>4198401</td>\n",
       "      <td>375316653866487564</td>\n",
       "      <td>2014.650298</td>\n",
       "      <td>0.001598</td>\n",
       "    </tr>\n",
       "    <tr>\n",
       "      <th>2</th>\n",
       "      <td>6059400613544951552</td>\n",
       "      <td>18605508130787484</td>\n",
       "      <td>G</td>\n",
       "      <td>1733.311698</td>\n",
       "      <td>13.590165</td>\n",
       "      <td>69005.035717</td>\n",
       "      <td>91.666889</td>\n",
       "      <td>752.780396</td>\n",
       "      <td>False</td>\n",
       "      <td>False</td>\n",
       "      <td>4097</td>\n",
       "      <td>375316653866487564</td>\n",
       "      <td>2014.745549</td>\n",
       "      <td>0.001224</td>\n",
       "    </tr>\n",
       "    <tr>\n",
       "      <th>3</th>\n",
       "      <td>6059400613544951552</td>\n",
       "      <td>18609600412565873</td>\n",
       "      <td>G</td>\n",
       "      <td>1733.385675</td>\n",
       "      <td>13.580008</td>\n",
       "      <td>69653.568362</td>\n",
       "      <td>137.222199</td>\n",
       "      <td>507.596954</td>\n",
       "      <td>False</td>\n",
       "      <td>False</td>\n",
       "      <td>4198401</td>\n",
       "      <td>375316653866487564</td>\n",
       "      <td>2014.745751</td>\n",
       "      <td>0.001814</td>\n",
       "    </tr>\n",
       "    <tr>\n",
       "      <th>4</th>\n",
       "      <td>6059400613544951552</td>\n",
       "      <td>21062536978253010</td>\n",
       "      <td>G</td>\n",
       "      <td>1777.745475</td>\n",
       "      <td>13.589119</td>\n",
       "      <td>69071.545138</td>\n",
       "      <td>76.789981</td>\n",
       "      <td>899.486389</td>\n",
       "      <td>False</td>\n",
       "      <td>False</td>\n",
       "      <td>4194433</td>\n",
       "      <td>375316653866487564</td>\n",
       "      <td>2014.867202</td>\n",
       "      <td>0.001024</td>\n",
       "    </tr>\n",
       "  </tbody>\n",
       "</table>\n",
       "</div>"
      ],
      "text/plain": [
       "             source_id         transit_id band         time        mag  \\\n",
       "0  6059400613544951552  16677568339403789    G  1698.447455  13.581720   \n",
       "1  6059400613544951552  16681660631794030    G  1698.521430  13.570018   \n",
       "2  6059400613544951552  18605508130787484    G  1733.311698  13.590165   \n",
       "3  6059400613544951552  18609600412565873    G  1733.385675  13.580008   \n",
       "4  6059400613544951552  21062536978253010    G  1777.745475  13.589119   \n",
       "\n",
       "           flux  flux_error  flux_over_error  rejected_by_photometry  \\\n",
       "0  69543.851351   92.815028       749.273621                   False   \n",
       "1  70297.436761  121.972755       576.337219                   False   \n",
       "2  69005.035717   91.666889       752.780396                   False   \n",
       "3  69653.568362  137.222199       507.596954                   False   \n",
       "4  69071.545138   76.789981       899.486389                   False   \n",
       "\n",
       "   rejected_by_variability  other_flags         solution_id    time_year  \\\n",
       "0                    False         4097  375316653866487564  2014.650096   \n",
       "1                    False      4198401  375316653866487564  2014.650298   \n",
       "2                    False         4097  375316653866487564  2014.745549   \n",
       "3                    False      4198401  375316653866487564  2014.745751   \n",
       "4                    False      4194433  375316653866487564  2014.867202   \n",
       "\n",
       "    mag_err  \n",
       "0  0.001229  \n",
       "1  0.001598  \n",
       "2  0.001224  \n",
       "3  0.001814  \n",
       "4  0.001024  "
      ]
     },
     "execution_count": 11,
     "metadata": {},
     "output_type": "execute_result"
    }
   ],
   "source": [
    "event.band_photometry(\"G\").head()"
   ]
  },
  {
   "cell_type": "markdown",
   "metadata": {},
   "source": [
    "as well as plotted:"
   ]
  },
  {
   "cell_type": "code",
   "execution_count": 12,
   "metadata": {},
   "outputs": [
    {
     "data": {
      "image/png": "[encoded data removed]",
      "text/plain": [
       "<Figure size 640x480 with 1 Axes>"
      ]
     },
     "metadata": {},
     "output_type": "display_data"
    }
   ],
   "source": [
    "event.plot_photometry(bands=[\"G\"])"
   ]
  },
  {
   "cell_type": "code",
   "execution_count": null,
   "metadata": {},
   "outputs": [],
   "source": []
  }
 ],
 "metadata": {
  "kernelspec": {
   "display_name": "Python 3.10.8 ('astronomy')",
   "language": "python",
   "name": "python3"
  },
  "language_info": {
   "codemirror_mode": {
    "name": "ipython",
    "version": 3
   },
   "file_extension": ".py",
   "mimetype": "text/x-python",
   "name": "python",
   "nbconvert_exporter": "python",
   "pygments_lexer": "ipython3",
   "version": "3.10.8"
  },
  "orig_nbformat": 4,
  "vscode": {
   "interpreter": {
    "hash": "ac8749206f28f1dbeb4eedfea12e8cde65f1d9e7d1e3a85a4b7c35321f90b9e3"
   }
  }
 },
 "nbformat": 4,
 "nbformat_minor": 2
}
